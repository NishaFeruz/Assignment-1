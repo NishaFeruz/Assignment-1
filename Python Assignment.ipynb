{
 "cells": [
  {
   "cell_type": "markdown",
   "metadata": {},
   "source": [
    "# 1. Write a function called rectangle that takes two integers m and n as arguments and prints out an m × n box consisting of asterisks."
   ]
  },
  {
   "cell_type": "code",
   "execution_count": 1,
   "metadata": {},
   "outputs": [
    {
     "name": "stdout",
     "output_type": "stream",
     "text": [
      "* * * * * * * * * * * * * * * *  \n",
      "* * * * * * * * * * * * * * * *  \n",
      "* * * * * * * * * * * * * * * *  \n",
      "* * * * * * * * * * * * * * * *  \n",
      "* * * * * * * * * * * * * * * *  \n",
      "* * * * * * * * * * * * * * * *  \n"
     ]
    }
   ],
   "source": [
    "\n",
    "def rectangle(m ,n): # m is number of rows and is number of coloumns \n",
    " for a in range(m):\n",
    "    for b in range(n):\n",
    "        print(\"*\"),\n",
    "    print(\" \")\n",
    "\n",
    "rectangle(6,16) # thi will print 6 stars in row and 16 stars in coloum"
   ]
  },
  {
   "cell_type": "markdown",
   "metadata": {},
   "source": [
    "# 2.Write a function called add_excitement that takes a list of strings and adds an exclamation point ( ! ) to the end of each string in the list. The program should modify the original list and not return anything."
   ]
  },
  {
   "cell_type": "code",
   "execution_count": 2,
   "metadata": {},
   "outputs": [
    {
     "name": "stdout",
     "output_type": "stream",
     "text": [
      "Enter string: Hellow! My name is Nisha!\n",
      "Hellow My name is Nisha\n"
     ]
    }
   ],
   "source": [
    "def add_exitement():\n",
    "    \n",
    "    punctuations = \"!\"\n",
    "    \n",
    "    st = raw_input(\"Enter string: \") # takes input from the user\n",
    "\n",
    "    # removes punctuation from the string\n",
    "    nopun = \"\"\n",
    "    for char in st:\n",
    "        if char not in punctuations:\n",
    "            nopun = nopun + char\n",
    "\n",
    "    print(nopun) # displays unpunctuated string\n",
    "\n",
    "add_exitement() # its a calling function"
   ]
  },
  {
   "cell_type": "markdown",
   "metadata": {},
   "source": [
    "# 3. Write the same function except that it should not modify the original list and should instead return a new list."
   ]
  },
  {
   "cell_type": "code",
   "execution_count": 3,
   "metadata": {},
   "outputs": [
    {
     "name": "stdout",
     "output_type": "stream",
     "text": [
      "Enter string: Hellow! My name is Nisha!\n",
      "\n",
      "New String is:\n"
     ]
    },
    {
     "data": {
      "text/plain": [
       "'Hellow! My name is Nisha!'"
      ]
     },
     "execution_count": 3,
     "metadata": {},
     "output_type": "execute_result"
    }
   ],
   "source": [
    "def add_exitement():\n",
    "    \n",
    "    String = raw_input(\"Enter string: \") # This will take a string as input\n",
    "   \n",
    "    print '\\nNew String is:'\n",
    "    return String # this returns string\n",
    "\n",
    "add_exitement() # the calling function"
   ]
  },
  {
   "cell_type": "markdown",
   "metadata": {},
   "source": [
    "# 4. The digital root of a number n is obtained as follows: Add up the digits n to get a new number. Add up the digits of that to get another new number. Keep doing this until you get a number that has only one digit. That number is the digital root. For example, if n = 45893 , we add up the digits to get 4 + 5 + 8 + 9 + 3 = 29 . We then add up the digits of 29 to get 2 + 9 = 11 . We then add up the digits of 11 to get 1 + 1 = 2 . Since 2 has only one digit, 2 is our digital root. Write a function that returns the digital root of an integer n . [Note: there is a shortcut, where the digital root is equal to n mod 9, but do not use that here.]"
   ]
  },
  {
   "cell_type": "code",
   "execution_count": 7,
   "metadata": {},
   "outputs": [
    {
     "name": "stdout",
     "output_type": "stream",
     "text": [
      "Enter an integer: 4582\n",
      "Digital Root is:  1\n"
     ]
    }
   ],
   "source": [
    "def digital_root():\n",
    "    \n",
    "    n = input(\"Enter an integer: \") # here input is n\n",
    "    st = 0 # s is sum\n",
    "    \n",
    "    while(n > 0 or st > 9):   \n",
    "        if(n == 0): # here if n is 0, then the sum will be 0\n",
    "            n = st\n",
    "            st = 0\n",
    "        else:\n",
    "            st = st + (n % 10)\n",
    "            n = n / 10\n",
    "    \n",
    "    print \"Digital Root is: \", st\n",
    "\n",
    "digital_root() # this is a calling function"
   ]
  },
  {
   "cell_type": "markdown",
   "metadata": {},
   "source": [
    "# 5. Write a function that takes an integer n and returns a random integer with exactly n digits. For instance, if n is 3, then 125 and 593 would be valid return values, but 093 would not because that is really 93, which is a two-digit number."
   ]
  },
  {
   "cell_type": "code",
   "execution_count": 9,
   "metadata": {},
   "outputs": [
    {
     "name": "stdout",
     "output_type": "stream",
     "text": [
      "Length of integer: 3\n",
      "\n",
      "Here is a  3 digit random number: \n"
     ]
    },
    {
     "data": {
      "text/plain": [
       "574"
      ]
     },
     "execution_count": 9,
     "metadata": {},
     "output_type": "execute_result"
    }
   ],
   "source": [
    "from random import randint\n",
    "\n",
    "def random_num():\n",
    "    \n",
    "    n = input(\"Length of integer: \")\n",
    "    \n",
    "    strt = 10 ** (n - 1) # start point\n",
    "    end = (10 ** n) - 1 # end point\n",
    "    print '\\nHere is a ', n, 'digit random number: '\n",
    "    return randint(strt, end) # returns a random number\n",
    "\n",
    "random_num()"
   ]
  },
  {
   "cell_type": "markdown",
   "metadata": {},
   "source": [
    "# 6.Write a function called matches that takes two strings as arguments and returns how many matches there are between the strings. A match is where the two strings have the same character at the same index. For instance, ' python ' and ' path ' match in the first, third, and fourth characters, so the function should return 3."
   ]
  },
  {
   "cell_type": "code",
   "execution_count": 13,
   "metadata": {},
   "outputs": [
    {
     "name": "stdout",
     "output_type": "stream",
     "text": [
      "Number of matched characters: 4\n"
     ]
    }
   ],
   "source": [
    "def matches(str_1, str_2): # function name\n",
    "    \n",
    "    match = set(str_1) & set(str_2) # finds the matches between two strings  \n",
    "     \n",
    "    # prints the number of matched characters between the strings\n",
    "    print 'Number of matched characters: ' +str(len(match))\n",
    "\n",
    "matches('Nisha','Nishi') # calling function with arguments"
   ]
  },
  {
   "cell_type": "markdown",
   "metadata": {},
   "source": [
    "# 7.Write a function called primes that is given a number n and returns a list of the first n primes. Let the default value of n be 100."
   ]
  },
  {
   "cell_type": "code",
   "execution_count": null,
   "metadata": {},
   "outputs": [],
   "source": [
    "def main(): \n",
    "    print \"100 Prime Numbers: \",\n",
    "    count = 0\n",
    "    n = 0\n",
    "\n",
    "    while count < 100:\n",
    "        if primes(n):\n",
    "            count = count + 1\n",
    "            print n,  # output of the prime numbers horizontally\n",
    "        n = n + 1\n",
    "\n",
    "def primes(n): # primes is the function name and n is the given number\n",
    "    result = True\n",
    "\n",
    "    for i in range(2,n):\n",
    "        if n % i == 0: # checking prime number\n",
    "            result = False\n",
    "            break\n",
    "\n",
    "    if n <= 1:\n",
    "        result = False\n",
    "    \n",
    "    return result\n",
    "\n",
    "main() # calling main function"
   ]
  },
  {
   "cell_type": "code",
   "execution_count": null,
   "metadata": {},
   "outputs": [],
   "source": [
    "\n"
   ]
  }
 ],
 "metadata": {
  "kernelspec": {
   "display_name": "Python 2",
   "language": "python",
   "name": "python2"
  },
  "language_info": {
   "codemirror_mode": {
    "name": "ipython",
    "version": 2
   },
   "file_extension": ".py",
   "mimetype": "text/x-python",
   "name": "python",
   "nbconvert_exporter": "python",
   "pygments_lexer": "ipython2",
   "version": "2.7.15"
  }
 },
 "nbformat": 4,
 "nbformat_minor": 2
}
