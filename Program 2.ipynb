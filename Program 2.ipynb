{
 "cells": [
  {
   "cell_type": "markdown",
   "metadata": {},
   "source": [
    "# 2.Write a function called add_excitement that takes a list of strings and adds an exclamation point ( ! ) to the end of each string in the list. The program should modify the original list and not return anything."
   ]
  },
  {
   "cell_type": "code",
   "execution_count": 1,
   "metadata": {},
   "outputs": [
    {
     "name": "stdout",
     "output_type": "stream",
     "text": [
      "Enter string: Hellow ! I am Nisha Feruz\n",
      "Hellow  I am Nisha Feruz\n"
     ]
    }
   ],
   "source": [
    "def add_exitement():\n",
    "    \n",
    "    punctuations = \"!\"\n",
    "    \n",
    "    st = raw_input(\"Enter string: \") # takes input from the user\n",
    "\n",
    "    # removes punctuation from the string\n",
    "    nopun = \"\"\n",
    "    for char in st:\n",
    "        if char not in punctuations:\n",
    "            nopun = nopun + char\n",
    "\n",
    "    print(nopun) # displays unpunctuated string\n",
    "\n",
    "add_exitement() # its a calling function"
   ]
  },
  {
   "cell_type": "code",
   "execution_count": null,
   "metadata": {},
   "outputs": [],
   "source": []
  }
 ],
 "metadata": {
  "kernelspec": {
   "display_name": "Python 2",
   "language": "python",
   "name": "python2"
  },
  "language_info": {
   "codemirror_mode": {
    "name": "ipython",
    "version": 2
   },
   "file_extension": ".py",
   "mimetype": "text/x-python",
   "name": "python",
   "nbconvert_exporter": "python",
   "pygments_lexer": "ipython2",
   "version": "2.7.15"
  }
 },
 "nbformat": 4,
 "nbformat_minor": 2
}
