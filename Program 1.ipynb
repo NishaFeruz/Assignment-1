{
 "cells": [
  {
   "cell_type": "markdown",
   "metadata": {},
   "source": [
    "# 1. Write a function called rectangle that takes two integers m and n as arguments and prints out an m × n box consisting of asterisks."
   ]
  },
  {
   "cell_type": "code",
   "execution_count": 2,
   "metadata": {},
   "outputs": [
    {
     "name": "stdout",
     "output_type": "stream",
     "text": [
      "* * * * * * * * * * * * * * * *  \n",
      "* * * * * * * * * * * * * * * *  \n",
      "* * * * * * * * * * * * * * * *  \n",
      "* * * * * * * * * * * * * * * *  \n",
      "* * * * * * * * * * * * * * * *  \n",
      "* * * * * * * * * * * * * * * *  \n"
     ]
    }
   ],
   "source": [
    "\n",
    "def rectangle(m ,n): # m is number of rows and is number of coloumns \n",
    " for a in range(m):\n",
    "    for b in range(n):\n",
    "        print(\"*\"),\n",
    "    print(\" \")\n",
    "\n",
    "rectangle(6,16) # thi will print 6 stars in row and 16 stars in coloum"
   ]
  },
  {
   "cell_type": "code",
   "execution_count": null,
   "metadata": {},
   "outputs": [],
   "source": []
  }
 ],
 "metadata": {
  "kernelspec": {
   "display_name": "Python 2",
   "language": "python",
   "name": "python2"
  },
  "language_info": {
   "codemirror_mode": {
    "name": "ipython",
    "version": 2
   },
   "file_extension": ".py",
   "mimetype": "text/x-python",
   "name": "python",
   "nbconvert_exporter": "python",
   "pygments_lexer": "ipython2",
   "version": "2.7.15"
  }
 },
 "nbformat": 4,
 "nbformat_minor": 2
}
